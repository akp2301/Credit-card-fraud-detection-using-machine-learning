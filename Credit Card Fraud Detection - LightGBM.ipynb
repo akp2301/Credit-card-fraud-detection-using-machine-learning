{
 "cells": [
  {
   "cell_type": "markdown",
   "id": "144aa503",
   "metadata": {
    "id": "144aa503"
   },
   "source": [
    "***Credit Card Fraud Detection using LightGBM Model***"
   ]
  },
  {
   "cell_type": "markdown",
   "id": "1e009ae3",
   "metadata": {
    "id": "1e009ae3"
   },
   "source": [
    "**Importing Necessary Libraries**"
   ]
  },
  {
   "cell_type": "code",
   "execution_count": 2,
   "id": "205c635f",
   "metadata": {
    "colab": {
     "base_uri": "https://localhost:8080/",
     "height": 383
    },
    "executionInfo": {
     "elapsed": 1448,
     "status": "error",
     "timestamp": 1654433369273,
     "user": {
      "displayName": "Project4th Group",
      "userId": "03925515661915260200"
     },
     "user_tz": -330
    },
    "id": "205c635f",
    "outputId": "c2fdaf68-a60a-4c4c-d223-32688a43e862"
   },
   "outputs": [],
   "source": [
    "import os\n",
    "import csv\n",
    "import random\n",
    "import numpy as np\n",
    "import pandas as pd\n",
    "import matplotlib.pyplot as plt\n",
    "import seaborn as sns\n",
    "import scikitplot as skplt\n",
    "import tkinter \n",
    "\n",
    "from lightgbm import LGBMClassifier\n",
    "\n",
    "from imblearn.under_sampling import RandomUnderSampler\n",
    "from imblearn.pipeline import Pipeline\n",
    "from imblearn.metrics import classification_report_imbalanced\n",
    "\n",
    "from sklearn.preprocessing import StandardScaler\n",
    "from sklearn.model_selection import train_test_split, GroupKFold, StratifiedKFold\n",
    "from sklearn.metrics import (matthews_corrcoef, roc_auc_score,\n",
    "                             average_precision_score, f1_score)\n",
    "\n",
    "from sklearn.experimental import enable_halving_search_cv # noqa\n",
    "from sklearn.model_selection import HalvingGridSearchCV\n",
    "from tkinter import filedialog\n",
    "from tkinter import *"
   ]
  },
  {
   "cell_type": "code",
   "execution_count": null,
   "id": "c3aeb01e",
   "metadata": {
    "executionInfo": {
     "elapsed": 4,
     "status": "aborted",
     "timestamp": 1654433369271,
     "user": {
      "displayName": "Project4th Group",
      "userId": "03925515661915260200"
     },
     "user_tz": -330
    },
    "id": "c3aeb01e"
   },
   "outputs": [],
   "source": []
  },
  {
   "cell_type": "markdown",
   "id": "23275b75",
   "metadata": {
    "id": "23275b75"
   },
   "source": [
    "**Set Seed for Reproducability**"
   ]
  },
  {
   "cell_type": "code",
   "execution_count": 3,
   "id": "23737b05",
   "metadata": {
    "executionInfo": {
     "elapsed": 4,
     "status": "aborted",
     "timestamp": 1654433369272,
     "user": {
      "displayName": "Project4th Group",
      "userId": "03925515661915260200"
     },
     "user_tz": -330
    },
    "id": "23737b05"
   },
   "outputs": [],
   "source": [
    "SEED = 1\n",
    "random.seed(SEED)\n",
    "np.random.seed(SEED)\n",
    "os.environ['PYTHONHASHSEED'] = str(SEED)"
   ]
  },
  {
   "cell_type": "markdown",
   "id": "3def9742",
   "metadata": {
    "id": "3def9742"
   },
   "source": [
    "Boolean value to control whether to use previous grid search result or perform new search"
   ]
  },
  {
   "cell_type": "code",
   "execution_count": 4,
   "id": "6e67cda4",
   "metadata": {
    "executionInfo": {
     "elapsed": 5,
     "status": "aborted",
     "timestamp": 1654433369273,
     "user": {
      "displayName": "Project4th Group",
      "userId": "03925515661915260200"
     },
     "user_tz": -330
    },
    "id": "6e67cda4"
   },
   "outputs": [],
   "source": [
    "USE_TUNED_PARAMS = True"
   ]
  },
  {
   "cell_type": "markdown",
   "id": "07b2ef87",
   "metadata": {
    "id": "07b2ef87"
   },
   "source": [
    "**Loading the Data**\n",
    "\n",
    "Using customized read_csv() to optimize datatypes and minimize memory usage"
   ]
  },
  {
   "cell_type": "code",
   "execution_count": 5,
   "id": "7cabf552",
   "metadata": {
    "executionInfo": {
     "elapsed": 5,
     "status": "aborted",
     "timestamp": 1654433369273,
     "user": {
      "displayName": "Project4th Group",
      "userId": "03925515661915260200"
     },
     "user_tz": -330
    },
    "id": "7cabf552"
   },
   "outputs": [],
   "source": [
    "def read_csv(file_path: str, nrows=None, dtype=np.float32) -> pd.DataFrame:\n",
    "    with open(file_path, 'r') as f:\n",
    "        column_names = next(csv.reader(f))\n",
    "    dtypes = {x: dtype for x in column_names if\n",
    "            x != 'Class'}\n",
    "    dtypes['Class'] = np.int8\n",
    "    return pd.read_csv(file_path, nrows=nrows, dtype=dtypes)"
   ]
  },
  {
   "cell_type": "code",
   "execution_count": 6,
   "id": "390f036b",
   "metadata": {
    "executionInfo": {
     "elapsed": 5,
     "status": "aborted",
     "timestamp": 1654433369273,
     "user": {
      "displayName": "Project4th Group",
      "userId": "03925515661915260200"
     },
     "user_tz": -330
    },
    "id": "390f036b"
   },
   "outputs": [
    {
     "name": "stdout",
     "output_type": "stream",
     "text": [
      "<class 'pandas.core.frame.DataFrame'>\n",
      "RangeIndex: 284807 entries, 0 to 284806\n",
      "Data columns (total 31 columns):\n",
      " #   Column  Non-Null Count   Dtype  \n",
      "---  ------  --------------   -----  \n",
      " 0   Time    284807 non-null  float32\n",
      " 1   V1      284807 non-null  float32\n",
      " 2   V2      284807 non-null  float32\n",
      " 3   V3      284807 non-null  float32\n",
      " 4   V4      284807 non-null  float32\n",
      " 5   V5      284807 non-null  float32\n",
      " 6   V6      284807 non-null  float32\n",
      " 7   V7      284807 non-null  float32\n",
      " 8   V8      284807 non-null  float32\n",
      " 9   V9      284807 non-null  float32\n",
      " 10  V10     284807 non-null  float32\n",
      " 11  V11     284807 non-null  float32\n",
      " 12  V12     284807 non-null  float32\n",
      " 13  V13     284807 non-null  float32\n",
      " 14  V14     284807 non-null  float32\n",
      " 15  V15     284807 non-null  float32\n",
      " 16  V16     284807 non-null  float32\n",
      " 17  V17     284807 non-null  float32\n",
      " 18  V18     284807 non-null  float32\n",
      " 19  V19     284807 non-null  float32\n",
      " 20  V20     284807 non-null  float32\n",
      " 21  V21     284807 non-null  float32\n",
      " 22  V22     284807 non-null  float32\n",
      " 23  V23     284807 non-null  float32\n",
      " 24  V24     284807 non-null  float32\n",
      " 25  V25     284807 non-null  float32\n",
      " 26  V26     284807 non-null  float32\n",
      " 27  V27     284807 non-null  float32\n",
      " 28  V28     284807 non-null  float32\n",
      " 29  Amount  284807 non-null  float32\n",
      " 30  Class   284807 non-null  int8   \n",
      "dtypes: float32(30), int8(1)\n",
      "memory usage: 32.9 MB\n"
     ]
    }
   ],
   "source": [
    "filePath = 'creditcard.csv'\n",
    "df = read_csv(filePath)\n",
    "df.info()"
   ]
  },
  {
   "cell_type": "code",
   "execution_count": 7,
   "id": "9a155e23",
   "metadata": {
    "colab": {
     "base_uri": "https://localhost:8080/",
     "height": 169
    },
    "executionInfo": {
     "elapsed": 5,
     "status": "error",
     "timestamp": 1654433370749,
     "user": {
      "displayName": "Project4th Group",
      "userId": "03925515661915260200"
     },
     "user_tz": -330
    },
    "id": "9a155e23",
    "outputId": "c3895ba5-b374-4ce1-af60-f89533628e7f"
   },
   "outputs": [
    {
     "data": {
      "text/html": [
       "<div>\n",
       "<style scoped>\n",
       "    .dataframe tbody tr th:only-of-type {\n",
       "        vertical-align: middle;\n",
       "    }\n",
       "\n",
       "    .dataframe tbody tr th {\n",
       "        vertical-align: top;\n",
       "    }\n",
       "\n",
       "    .dataframe thead th {\n",
       "        text-align: right;\n",
       "    }\n",
       "</style>\n",
       "<table border=\"1\" class=\"dataframe\">\n",
       "  <thead>\n",
       "    <tr style=\"text-align: right;\">\n",
       "      <th></th>\n",
       "      <th>Time</th>\n",
       "      <th>V1</th>\n",
       "      <th>V2</th>\n",
       "      <th>V3</th>\n",
       "      <th>V4</th>\n",
       "      <th>V5</th>\n",
       "      <th>V6</th>\n",
       "      <th>V7</th>\n",
       "      <th>V8</th>\n",
       "      <th>V9</th>\n",
       "      <th>...</th>\n",
       "      <th>V21</th>\n",
       "      <th>V22</th>\n",
       "      <th>V23</th>\n",
       "      <th>V24</th>\n",
       "      <th>V25</th>\n",
       "      <th>V26</th>\n",
       "      <th>V27</th>\n",
       "      <th>V28</th>\n",
       "      <th>Amount</th>\n",
       "      <th>Class</th>\n",
       "    </tr>\n",
       "  </thead>\n",
       "  <tbody>\n",
       "    <tr>\n",
       "      <th>0</th>\n",
       "      <td>0.0</td>\n",
       "      <td>-1.359807</td>\n",
       "      <td>-0.072781</td>\n",
       "      <td>2.536347</td>\n",
       "      <td>1.378155</td>\n",
       "      <td>-0.338321</td>\n",
       "      <td>0.462388</td>\n",
       "      <td>0.239599</td>\n",
       "      <td>0.098698</td>\n",
       "      <td>0.363787</td>\n",
       "      <td>...</td>\n",
       "      <td>-0.018307</td>\n",
       "      <td>0.277838</td>\n",
       "      <td>-0.110474</td>\n",
       "      <td>0.066928</td>\n",
       "      <td>0.128539</td>\n",
       "      <td>-0.189115</td>\n",
       "      <td>0.133558</td>\n",
       "      <td>-0.021053</td>\n",
       "      <td>149.619995</td>\n",
       "      <td>0</td>\n",
       "    </tr>\n",
       "    <tr>\n",
       "      <th>1</th>\n",
       "      <td>0.0</td>\n",
       "      <td>1.191857</td>\n",
       "      <td>0.266151</td>\n",
       "      <td>0.166480</td>\n",
       "      <td>0.448154</td>\n",
       "      <td>0.060018</td>\n",
       "      <td>-0.082361</td>\n",
       "      <td>-0.078803</td>\n",
       "      <td>0.085102</td>\n",
       "      <td>-0.255425</td>\n",
       "      <td>...</td>\n",
       "      <td>-0.225775</td>\n",
       "      <td>-0.638672</td>\n",
       "      <td>0.101288</td>\n",
       "      <td>-0.339846</td>\n",
       "      <td>0.167170</td>\n",
       "      <td>0.125895</td>\n",
       "      <td>-0.008983</td>\n",
       "      <td>0.014724</td>\n",
       "      <td>2.690000</td>\n",
       "      <td>0</td>\n",
       "    </tr>\n",
       "    <tr>\n",
       "      <th>2</th>\n",
       "      <td>1.0</td>\n",
       "      <td>-1.358354</td>\n",
       "      <td>-1.340163</td>\n",
       "      <td>1.773209</td>\n",
       "      <td>0.379780</td>\n",
       "      <td>-0.503198</td>\n",
       "      <td>1.800499</td>\n",
       "      <td>0.791461</td>\n",
       "      <td>0.247676</td>\n",
       "      <td>-1.514654</td>\n",
       "      <td>...</td>\n",
       "      <td>0.247998</td>\n",
       "      <td>0.771679</td>\n",
       "      <td>0.909412</td>\n",
       "      <td>-0.689281</td>\n",
       "      <td>-0.327642</td>\n",
       "      <td>-0.139097</td>\n",
       "      <td>-0.055353</td>\n",
       "      <td>-0.059752</td>\n",
       "      <td>378.660004</td>\n",
       "      <td>0</td>\n",
       "    </tr>\n",
       "    <tr>\n",
       "      <th>3</th>\n",
       "      <td>1.0</td>\n",
       "      <td>-0.966272</td>\n",
       "      <td>-0.185226</td>\n",
       "      <td>1.792993</td>\n",
       "      <td>-0.863291</td>\n",
       "      <td>-0.010309</td>\n",
       "      <td>1.247203</td>\n",
       "      <td>0.237609</td>\n",
       "      <td>0.377436</td>\n",
       "      <td>-1.387024</td>\n",
       "      <td>...</td>\n",
       "      <td>-0.108300</td>\n",
       "      <td>0.005274</td>\n",
       "      <td>-0.190321</td>\n",
       "      <td>-1.175575</td>\n",
       "      <td>0.647376</td>\n",
       "      <td>-0.221929</td>\n",
       "      <td>0.062723</td>\n",
       "      <td>0.061458</td>\n",
       "      <td>123.500000</td>\n",
       "      <td>0</td>\n",
       "    </tr>\n",
       "    <tr>\n",
       "      <th>4</th>\n",
       "      <td>2.0</td>\n",
       "      <td>-1.158233</td>\n",
       "      <td>0.877737</td>\n",
       "      <td>1.548718</td>\n",
       "      <td>0.403034</td>\n",
       "      <td>-0.407193</td>\n",
       "      <td>0.095921</td>\n",
       "      <td>0.592941</td>\n",
       "      <td>-0.270533</td>\n",
       "      <td>0.817739</td>\n",
       "      <td>...</td>\n",
       "      <td>-0.009431</td>\n",
       "      <td>0.798279</td>\n",
       "      <td>-0.137458</td>\n",
       "      <td>0.141267</td>\n",
       "      <td>-0.206010</td>\n",
       "      <td>0.502292</td>\n",
       "      <td>0.219422</td>\n",
       "      <td>0.215153</td>\n",
       "      <td>69.989998</td>\n",
       "      <td>0</td>\n",
       "    </tr>\n",
       "  </tbody>\n",
       "</table>\n",
       "<p>5 rows × 31 columns</p>\n",
       "</div>"
      ],
      "text/plain": [
       "   Time        V1        V2        V3        V4        V5        V6        V7  \\\n",
       "0   0.0 -1.359807 -0.072781  2.536347  1.378155 -0.338321  0.462388  0.239599   \n",
       "1   0.0  1.191857  0.266151  0.166480  0.448154  0.060018 -0.082361 -0.078803   \n",
       "2   1.0 -1.358354 -1.340163  1.773209  0.379780 -0.503198  1.800499  0.791461   \n",
       "3   1.0 -0.966272 -0.185226  1.792993 -0.863291 -0.010309  1.247203  0.237609   \n",
       "4   2.0 -1.158233  0.877737  1.548718  0.403034 -0.407193  0.095921  0.592941   \n",
       "\n",
       "         V8        V9  ...       V21       V22       V23       V24       V25  \\\n",
       "0  0.098698  0.363787  ... -0.018307  0.277838 -0.110474  0.066928  0.128539   \n",
       "1  0.085102 -0.255425  ... -0.225775 -0.638672  0.101288 -0.339846  0.167170   \n",
       "2  0.247676 -1.514654  ...  0.247998  0.771679  0.909412 -0.689281 -0.327642   \n",
       "3  0.377436 -1.387024  ... -0.108300  0.005274 -0.190321 -1.175575  0.647376   \n",
       "4 -0.270533  0.817739  ... -0.009431  0.798279 -0.137458  0.141267 -0.206010   \n",
       "\n",
       "        V26       V27       V28      Amount  Class  \n",
       "0 -0.189115  0.133558 -0.021053  149.619995      0  \n",
       "1  0.125895 -0.008983  0.014724    2.690000      0  \n",
       "2 -0.139097 -0.055353 -0.059752  378.660004      0  \n",
       "3 -0.221929  0.062723  0.061458  123.500000      0  \n",
       "4  0.502292  0.219422  0.215153   69.989998      0  \n",
       "\n",
       "[5 rows x 31 columns]"
      ]
     },
     "execution_count": 7,
     "metadata": {},
     "output_type": "execute_result"
    }
   ],
   "source": [
    "df.head()"
   ]
  },
  {
   "cell_type": "markdown",
   "id": "d5b2673e",
   "metadata": {
    "id": "d5b2673e"
   },
   "source": [
    "**Data Exploration**"
   ]
  },
  {
   "cell_type": "code",
   "execution_count": 8,
   "id": "5124275e",
   "metadata": {
    "colab": {
     "base_uri": "https://localhost:8080/",
     "height": 169
    },
    "executionInfo": {
     "elapsed": 3,
     "status": "error",
     "timestamp": 1654433372529,
     "user": {
      "displayName": "Project4th Group",
      "userId": "03925515661915260200"
     },
     "user_tz": -330
    },
    "id": "5124275e",
    "outputId": "a97682e8-152f-42da-81d2-9227dab65ac3"
   },
   "outputs": [
    {
     "data": {
      "text/html": [
       "<div>\n",
       "<style scoped>\n",
       "    .dataframe tbody tr th:only-of-type {\n",
       "        vertical-align: middle;\n",
       "    }\n",
       "\n",
       "    .dataframe tbody tr th {\n",
       "        vertical-align: top;\n",
       "    }\n",
       "\n",
       "    .dataframe thead th {\n",
       "        text-align: right;\n",
       "    }\n",
       "</style>\n",
       "<table border=\"1\" class=\"dataframe\">\n",
       "  <thead>\n",
       "    <tr style=\"text-align: right;\">\n",
       "      <th></th>\n",
       "      <th>Time</th>\n",
       "      <th>V1</th>\n",
       "      <th>V2</th>\n",
       "      <th>V3</th>\n",
       "      <th>V4</th>\n",
       "      <th>V5</th>\n",
       "      <th>V6</th>\n",
       "      <th>V7</th>\n",
       "      <th>V8</th>\n",
       "      <th>V9</th>\n",
       "      <th>...</th>\n",
       "      <th>V21</th>\n",
       "      <th>V22</th>\n",
       "      <th>V23</th>\n",
       "      <th>V24</th>\n",
       "      <th>V25</th>\n",
       "      <th>V26</th>\n",
       "      <th>V27</th>\n",
       "      <th>V28</th>\n",
       "      <th>Amount</th>\n",
       "      <th>Class</th>\n",
       "    </tr>\n",
       "  </thead>\n",
       "  <tbody>\n",
       "    <tr>\n",
       "      <th>count</th>\n",
       "      <td>284807.000000</td>\n",
       "      <td>2.848070e+05</td>\n",
       "      <td>2.848070e+05</td>\n",
       "      <td>284807.000000</td>\n",
       "      <td>284807.000000</td>\n",
       "      <td>2.848070e+05</td>\n",
       "      <td>2.848070e+05</td>\n",
       "      <td>2.848070e+05</td>\n",
       "      <td>2.848070e+05</td>\n",
       "      <td>2.848070e+05</td>\n",
       "      <td>...</td>\n",
       "      <td>2.848070e+05</td>\n",
       "      <td>2.848070e+05</td>\n",
       "      <td>2.848070e+05</td>\n",
       "      <td>2.848070e+05</td>\n",
       "      <td>2.848070e+05</td>\n",
       "      <td>2.848070e+05</td>\n",
       "      <td>2.848070e+05</td>\n",
       "      <td>2.848070e+05</td>\n",
       "      <td>284807.000000</td>\n",
       "      <td>284807.000000</td>\n",
       "    </tr>\n",
       "    <tr>\n",
       "      <th>mean</th>\n",
       "      <td>94812.664062</td>\n",
       "      <td>-6.765166e-07</td>\n",
       "      <td>-2.200436e-07</td>\n",
       "      <td>0.000002</td>\n",
       "      <td>0.000001</td>\n",
       "      <td>-2.162242e-07</td>\n",
       "      <td>-3.044802e-07</td>\n",
       "      <td>3.562525e-07</td>\n",
       "      <td>-1.653899e-07</td>\n",
       "      <td>1.252389e-07</td>\n",
       "      <td>...</td>\n",
       "      <td>-1.392230e-08</td>\n",
       "      <td>1.401162e-07</td>\n",
       "      <td>2.286466e-08</td>\n",
       "      <td>-2.529817e-08</td>\n",
       "      <td>-6.366587e-07</td>\n",
       "      <td>-1.851112e-07</td>\n",
       "      <td>-6.904835e-09</td>\n",
       "      <td>-3.216587e-09</td>\n",
       "      <td>88.322945</td>\n",
       "      <td>0.001727</td>\n",
       "    </tr>\n",
       "    <tr>\n",
       "      <th>std</th>\n",
       "      <td>47487.195312</td>\n",
       "      <td>1.958611e+00</td>\n",
       "      <td>1.651183e+00</td>\n",
       "      <td>1.516203</td>\n",
       "      <td>1.415832</td>\n",
       "      <td>1.380180e+00</td>\n",
       "      <td>1.332214e+00</td>\n",
       "      <td>1.237020e+00</td>\n",
       "      <td>1.194202e+00</td>\n",
       "      <td>1.098575e+00</td>\n",
       "      <td>...</td>\n",
       "      <td>7.344701e-01</td>\n",
       "      <td>7.256873e-01</td>\n",
       "      <td>6.244100e-01</td>\n",
       "      <td>6.056016e-01</td>\n",
       "      <td>5.212620e-01</td>\n",
       "      <td>4.822155e-01</td>\n",
       "      <td>4.035722e-01</td>\n",
       "      <td>3.300574e-01</td>\n",
       "      <td>250.071564</td>\n",
       "      <td>0.041527</td>\n",
       "    </tr>\n",
       "    <tr>\n",
       "      <th>min</th>\n",
       "      <td>0.000000</td>\n",
       "      <td>-5.640751e+01</td>\n",
       "      <td>-7.271573e+01</td>\n",
       "      <td>-48.325588</td>\n",
       "      <td>-5.683171</td>\n",
       "      <td>-1.137433e+02</td>\n",
       "      <td>-2.616051e+01</td>\n",
       "      <td>-4.355724e+01</td>\n",
       "      <td>-7.321672e+01</td>\n",
       "      <td>-1.343407e+01</td>\n",
       "      <td>...</td>\n",
       "      <td>-3.483038e+01</td>\n",
       "      <td>-1.093314e+01</td>\n",
       "      <td>-4.480774e+01</td>\n",
       "      <td>-2.836627e+00</td>\n",
       "      <td>-1.029540e+01</td>\n",
       "      <td>-2.604551e+00</td>\n",
       "      <td>-2.256568e+01</td>\n",
       "      <td>-1.543008e+01</td>\n",
       "      <td>0.000000</td>\n",
       "      <td>0.000000</td>\n",
       "    </tr>\n",
       "    <tr>\n",
       "      <th>25%</th>\n",
       "      <td>54201.500000</td>\n",
       "      <td>-9.203734e-01</td>\n",
       "      <td>-5.985499e-01</td>\n",
       "      <td>-0.890365</td>\n",
       "      <td>-0.848640</td>\n",
       "      <td>-6.915971e-01</td>\n",
       "      <td>-7.682956e-01</td>\n",
       "      <td>-5.540759e-01</td>\n",
       "      <td>-2.086297e-01</td>\n",
       "      <td>-6.430976e-01</td>\n",
       "      <td>...</td>\n",
       "      <td>-2.283949e-01</td>\n",
       "      <td>-5.423504e-01</td>\n",
       "      <td>-1.618463e-01</td>\n",
       "      <td>-3.545861e-01</td>\n",
       "      <td>-3.171451e-01</td>\n",
       "      <td>-3.269839e-01</td>\n",
       "      <td>-7.083953e-02</td>\n",
       "      <td>-5.295979e-02</td>\n",
       "      <td>5.600000</td>\n",
       "      <td>0.000000</td>\n",
       "    </tr>\n",
       "    <tr>\n",
       "      <th>50%</th>\n",
       "      <td>84692.000000</td>\n",
       "      <td>1.810880e-02</td>\n",
       "      <td>6.548556e-02</td>\n",
       "      <td>0.179846</td>\n",
       "      <td>-0.019847</td>\n",
       "      <td>-5.433583e-02</td>\n",
       "      <td>-2.741871e-01</td>\n",
       "      <td>4.010308e-02</td>\n",
       "      <td>2.235804e-02</td>\n",
       "      <td>-5.142873e-02</td>\n",
       "      <td>...</td>\n",
       "      <td>-2.945017e-02</td>\n",
       "      <td>6.781943e-03</td>\n",
       "      <td>-1.119293e-02</td>\n",
       "      <td>4.097605e-02</td>\n",
       "      <td>1.659350e-02</td>\n",
       "      <td>-5.213911e-02</td>\n",
       "      <td>1.342146e-03</td>\n",
       "      <td>1.124383e-02</td>\n",
       "      <td>22.000000</td>\n",
       "      <td>0.000000</td>\n",
       "    </tr>\n",
       "    <tr>\n",
       "      <th>75%</th>\n",
       "      <td>139320.500000</td>\n",
       "      <td>1.315642e+00</td>\n",
       "      <td>8.037239e-01</td>\n",
       "      <td>1.027196</td>\n",
       "      <td>0.743341</td>\n",
       "      <td>6.119264e-01</td>\n",
       "      <td>3.985649e-01</td>\n",
       "      <td>5.704361e-01</td>\n",
       "      <td>3.273458e-01</td>\n",
       "      <td>5.971390e-01</td>\n",
       "      <td>...</td>\n",
       "      <td>1.863772e-01</td>\n",
       "      <td>5.285536e-01</td>\n",
       "      <td>1.476421e-01</td>\n",
       "      <td>4.395266e-01</td>\n",
       "      <td>3.507156e-01</td>\n",
       "      <td>2.409522e-01</td>\n",
       "      <td>9.104512e-02</td>\n",
       "      <td>7.827995e-02</td>\n",
       "      <td>77.165001</td>\n",
       "      <td>0.000000</td>\n",
       "    </tr>\n",
       "    <tr>\n",
       "      <th>max</th>\n",
       "      <td>172792.000000</td>\n",
       "      <td>2.454930e+00</td>\n",
       "      <td>2.205773e+01</td>\n",
       "      <td>9.382559</td>\n",
       "      <td>16.875343</td>\n",
       "      <td>3.480167e+01</td>\n",
       "      <td>7.330163e+01</td>\n",
       "      <td>1.205895e+02</td>\n",
       "      <td>2.000721e+01</td>\n",
       "      <td>1.559499e+01</td>\n",
       "      <td>...</td>\n",
       "      <td>2.720284e+01</td>\n",
       "      <td>1.050309e+01</td>\n",
       "      <td>2.252841e+01</td>\n",
       "      <td>4.584549e+00</td>\n",
       "      <td>7.519588e+00</td>\n",
       "      <td>3.517346e+00</td>\n",
       "      <td>3.161220e+01</td>\n",
       "      <td>3.384781e+01</td>\n",
       "      <td>25691.160156</td>\n",
       "      <td>1.000000</td>\n",
       "    </tr>\n",
       "  </tbody>\n",
       "</table>\n",
       "<p>8 rows × 31 columns</p>\n",
       "</div>"
      ],
      "text/plain": [
       "                Time            V1            V2             V3  \\\n",
       "count  284807.000000  2.848070e+05  2.848070e+05  284807.000000   \n",
       "mean    94812.664062 -6.765166e-07 -2.200436e-07       0.000002   \n",
       "std     47487.195312  1.958611e+00  1.651183e+00       1.516203   \n",
       "min         0.000000 -5.640751e+01 -7.271573e+01     -48.325588   \n",
       "25%     54201.500000 -9.203734e-01 -5.985499e-01      -0.890365   \n",
       "50%     84692.000000  1.810880e-02  6.548556e-02       0.179846   \n",
       "75%    139320.500000  1.315642e+00  8.037239e-01       1.027196   \n",
       "max    172792.000000  2.454930e+00  2.205773e+01       9.382559   \n",
       "\n",
       "                  V4            V5            V6            V7            V8  \\\n",
       "count  284807.000000  2.848070e+05  2.848070e+05  2.848070e+05  2.848070e+05   \n",
       "mean        0.000001 -2.162242e-07 -3.044802e-07  3.562525e-07 -1.653899e-07   \n",
       "std         1.415832  1.380180e+00  1.332214e+00  1.237020e+00  1.194202e+00   \n",
       "min        -5.683171 -1.137433e+02 -2.616051e+01 -4.355724e+01 -7.321672e+01   \n",
       "25%        -0.848640 -6.915971e-01 -7.682956e-01 -5.540759e-01 -2.086297e-01   \n",
       "50%        -0.019847 -5.433583e-02 -2.741871e-01  4.010308e-02  2.235804e-02   \n",
       "75%         0.743341  6.119264e-01  3.985649e-01  5.704361e-01  3.273458e-01   \n",
       "max        16.875343  3.480167e+01  7.330163e+01  1.205895e+02  2.000721e+01   \n",
       "\n",
       "                 V9  ...           V21           V22           V23  \\\n",
       "count  2.848070e+05  ...  2.848070e+05  2.848070e+05  2.848070e+05   \n",
       "mean   1.252389e-07  ... -1.392230e-08  1.401162e-07  2.286466e-08   \n",
       "std    1.098575e+00  ...  7.344701e-01  7.256873e-01  6.244100e-01   \n",
       "min   -1.343407e+01  ... -3.483038e+01 -1.093314e+01 -4.480774e+01   \n",
       "25%   -6.430976e-01  ... -2.283949e-01 -5.423504e-01 -1.618463e-01   \n",
       "50%   -5.142873e-02  ... -2.945017e-02  6.781943e-03 -1.119293e-02   \n",
       "75%    5.971390e-01  ...  1.863772e-01  5.285536e-01  1.476421e-01   \n",
       "max    1.559499e+01  ...  2.720284e+01  1.050309e+01  2.252841e+01   \n",
       "\n",
       "                V24           V25           V26           V27           V28  \\\n",
       "count  2.848070e+05  2.848070e+05  2.848070e+05  2.848070e+05  2.848070e+05   \n",
       "mean  -2.529817e-08 -6.366587e-07 -1.851112e-07 -6.904835e-09 -3.216587e-09   \n",
       "std    6.056016e-01  5.212620e-01  4.822155e-01  4.035722e-01  3.300574e-01   \n",
       "min   -2.836627e+00 -1.029540e+01 -2.604551e+00 -2.256568e+01 -1.543008e+01   \n",
       "25%   -3.545861e-01 -3.171451e-01 -3.269839e-01 -7.083953e-02 -5.295979e-02   \n",
       "50%    4.097605e-02  1.659350e-02 -5.213911e-02  1.342146e-03  1.124383e-02   \n",
       "75%    4.395266e-01  3.507156e-01  2.409522e-01  9.104512e-02  7.827995e-02   \n",
       "max    4.584549e+00  7.519588e+00  3.517346e+00  3.161220e+01  3.384781e+01   \n",
       "\n",
       "              Amount          Class  \n",
       "count  284807.000000  284807.000000  \n",
       "mean       88.322945       0.001727  \n",
       "std       250.071564       0.041527  \n",
       "min         0.000000       0.000000  \n",
       "25%         5.600000       0.000000  \n",
       "50%        22.000000       0.000000  \n",
       "75%        77.165001       0.000000  \n",
       "max     25691.160156       1.000000  \n",
       "\n",
       "[8 rows x 31 columns]"
      ]
     },
     "execution_count": 8,
     "metadata": {},
     "output_type": "execute_result"
    }
   ],
   "source": [
    "df.describe()"
   ]
  },
  {
   "cell_type": "markdown",
   "id": "94be6c5f",
   "metadata": {
    "id": "94be6c5f"
   },
   "source": [
    "Check for any missing values"
   ]
  },
  {
   "cell_type": "code",
   "execution_count": 9,
   "id": "30b0997b",
   "metadata": {
    "colab": {
     "base_uri": "https://localhost:8080/",
     "height": 169
    },
    "executionInfo": {
     "elapsed": 3,
     "status": "error",
     "timestamp": 1654433373402,
     "user": {
      "displayName": "Project4th Group",
      "userId": "03925515661915260200"
     },
     "user_tz": -330
    },
    "id": "30b0997b",
    "outputId": "4262f8dc-8204-431f-e904-3d859923d1c1"
   },
   "outputs": [
    {
     "data": {
      "text/plain": [
       "Time      0\n",
       "V1        0\n",
       "V2        0\n",
       "V3        0\n",
       "V4        0\n",
       "V5        0\n",
       "V6        0\n",
       "V7        0\n",
       "V8        0\n",
       "V9        0\n",
       "V10       0\n",
       "V11       0\n",
       "V12       0\n",
       "V13       0\n",
       "V14       0\n",
       "V15       0\n",
       "V16       0\n",
       "V17       0\n",
       "V18       0\n",
       "V19       0\n",
       "V20       0\n",
       "V21       0\n",
       "V22       0\n",
       "V23       0\n",
       "V24       0\n",
       "V25       0\n",
       "V26       0\n",
       "V27       0\n",
       "V28       0\n",
       "Amount    0\n",
       "Class     0\n",
       "dtype: int64"
      ]
     },
     "execution_count": 9,
     "metadata": {},
     "output_type": "execute_result"
    }
   ],
   "source": [
    "df.isna().sum()"
   ]
  },
  {
   "cell_type": "markdown",
   "id": "b4614048",
   "metadata": {
    "id": "b4614048"
   },
   "source": [
    "Make a copy to modify and visualise"
   ]
  },
  {
   "cell_type": "code",
   "execution_count": 10,
   "id": "7cd64bf6",
   "metadata": {
    "colab": {
     "base_uri": "https://localhost:8080/",
     "height": 169
    },
    "executionInfo": {
     "elapsed": 8,
     "status": "error",
     "timestamp": 1654433375867,
     "user": {
      "displayName": "Project4th Group",
      "userId": "03925515661915260200"
     },
     "user_tz": -330
    },
    "id": "7cd64bf6",
    "outputId": "47a60bf6-4c7b-48eb-e6e3-9e98eefc8de3"
   },
   "outputs": [],
   "source": [
    "df_copy = df.copy()"
   ]
  },
  {
   "cell_type": "code",
   "execution_count": 11,
   "id": "e17a25ca",
   "metadata": {
    "colab": {
     "base_uri": "https://localhost:8080/",
     "height": 391
    },
    "executionInfo": {
     "elapsed": 3044,
     "status": "ok",
     "timestamp": 1650821317902,
     "user": {
      "displayName": "Project4th Group",
      "userId": "03925515661915260200"
     },
     "user_tz": -330
    },
    "id": "e17a25ca",
    "outputId": "8f8a9838-e461-4af5-dc17-a1f2171b0cf9"
   },
   "outputs": [
    {
     "data": {
      "text/plain": [
       "<seaborn.axisgrid.FacetGrid at 0x7f84917ff160>"
      ]
     },
     "execution_count": 11,
     "metadata": {},
     "output_type": "execute_result"
    },
    {
     "data": {
      "image/png": "[encoded data removed]",
      "text/plain": [
       "<Figure size 402.375x360 with 1 Axes>"
      ]
     },
     "metadata": {
      "needs_background": "light"
     },
     "output_type": "display_data"
    }
   ],
   "source": [
    "ax = sns.displot(df_copy, x='Time', hue='Class', kind='kde', fill=True, common_norm=False)\n",
    "ax.set(title='Time Density Plot per Class')"
   ]
  },
  {
   "cell_type": "code",
   "execution_count": 12,
   "id": "19f3ab1f",
   "metadata": {
    "colab": {
     "base_uri": "https://localhost:8080/",
     "height": 402
    },
    "executionInfo": {
     "elapsed": 2725,
     "status": "ok",
     "timestamp": 1650821324614,
     "user": {
      "displayName": "Project4th Group",
      "userId": "03925515661915260200"
     },
     "user_tz": -330
    },
    "id": "19f3ab1f",
    "outputId": "716c6a74-eabe-4bcf-a528-c16ffdb29b9b"
   },
   "outputs": [
    {
     "data": {
      "text/plain": [
       "<seaborn.axisgrid.FacetGrid at 0x7f8495b0e9a0>"
      ]
     },
     "execution_count": 12,
     "metadata": {},
     "output_type": "execute_result"
    },
    {
     "data": {
      "image/png": "[encoded data removed]",
      "text/plain": [
       "<Figure size 402.375x360 with 1 Axes>"
      ]
     },
     "metadata": {
      "needs_background": "light"
     },
     "output_type": "display_data"
    }
   ],
   "source": [
    "ax = sns.displot(df_copy, x='Amount', hue='Class', kind='kde', fill=True, common_norm=False)\n",
    "ax.set(title='Amount Density Plot per Class')"
   ]
  },
  {
   "cell_type": "code",
   "execution_count": 13,
   "id": "3fe42c8e",
   "metadata": {
    "colab": {
     "base_uri": "https://localhost:8080/",
     "height": 402
    },
    "executionInfo": {
     "elapsed": 3569,
     "status": "ok",
     "timestamp": 1650821331069,
     "user": {
      "displayName": "Project4th Group",
      "userId": "03925515661915260200"
     },
     "user_tz": -330
    },
    "id": "3fe42c8e",
    "outputId": "6919c696-427c-455c-9fed-95fbbb3399b7"
   },
   "outputs": [
    {
     "data": {
      "text/plain": [
       "<seaborn.axisgrid.FacetGrid at 0x7f84959bf1c0>"
      ]
     },
     "execution_count": 13,
     "metadata": {},
     "output_type": "execute_result"
    },
    {
     "data": {
      "image/png": "[encoded data removed]",
      "text/plain": [
       "<Figure size 402.375x360 with 1 Axes>"
      ]
     },
     "metadata": {
      "needs_background": "light"
     },
     "output_type": "display_data"
    }
   ],
   "source": [
    "df_copy['Hour'] = df_copy['Time'].apply(lambda x: np.ceil(x / 3600) % 24)\n",
    "\n",
    "ax = sns.displot(df_copy, x='Hour', hue='Class', kind='kde', fill=True, common_norm=False)\n",
    "ax.set(title='Amount Density Plot per Class')"
   ]
  },
  {
   "cell_type": "code",
   "execution_count": 14,
   "id": "2a6af715",
   "metadata": {
    "colab": {
     "base_uri": "https://localhost:8080/",
     "height": 206
    },
    "executionInfo": {
     "elapsed": 368,
     "status": "ok",
     "timestamp": 1650821335100,
     "user": {
      "displayName": "Project4th Group",
      "userId": "03925515661915260200"
     },
     "user_tz": -330
    },
    "id": "2a6af715",
    "outputId": "bb2ea5e5-c7c6-4b74-ff3f-a0289f9701c8"
   },
   "outputs": [
    {
     "data": {
      "text/html": [
       "<div>\n",
       "<style scoped>\n",
       "    .dataframe tbody tr th:only-of-type {\n",
       "        vertical-align: middle;\n",
       "    }\n",
       "\n",
       "    .dataframe tbody tr th {\n",
       "        vertical-align: top;\n",
       "    }\n",
       "\n",
       "    .dataframe thead th {\n",
       "        text-align: right;\n",
       "    }\n",
       "</style>\n",
       "<table border=\"1\" class=\"dataframe\">\n",
       "  <thead>\n",
       "    <tr style=\"text-align: right;\">\n",
       "      <th></th>\n",
       "      <th>Hour</th>\n",
       "      <th>Class</th>\n",
       "      <th>Min</th>\n",
       "      <th>Max</th>\n",
       "      <th>Transactions</th>\n",
       "      <th>Sum</th>\n",
       "      <th>Mean</th>\n",
       "      <th>Median</th>\n",
       "      <th>Var</th>\n",
       "    </tr>\n",
       "  </thead>\n",
       "  <tbody>\n",
       "    <tr>\n",
       "      <th>0</th>\n",
       "      <td>0.0</td>\n",
       "      <td>0</td>\n",
       "      <td>0.0</td>\n",
       "      <td>10199.440430</td>\n",
       "      <td>10919</td>\n",
       "      <td>750813.937500</td>\n",
       "      <td>68.762154</td>\n",
       "      <td>14.400000</td>\n",
       "      <td>46255.160156</td>\n",
       "    </tr>\n",
       "    <tr>\n",
       "      <th>1</th>\n",
       "      <td>0.0</td>\n",
       "      <td>1</td>\n",
       "      <td>0.0</td>\n",
       "      <td>512.250000</td>\n",
       "      <td>21</td>\n",
       "      <td>3143.119873</td>\n",
       "      <td>149.672379</td>\n",
       "      <td>42.529999</td>\n",
       "      <td>31753.310547</td>\n",
       "    </tr>\n",
       "    <tr>\n",
       "      <th>2</th>\n",
       "      <td>1.0</td>\n",
       "      <td>0</td>\n",
       "      <td>0.0</td>\n",
       "      <td>7712.430176</td>\n",
       "      <td>7687</td>\n",
       "      <td>462282.281250</td>\n",
       "      <td>60.138191</td>\n",
       "      <td>12.140000</td>\n",
       "      <td>33692.777344</td>\n",
       "    </tr>\n",
       "    <tr>\n",
       "      <th>3</th>\n",
       "      <td>1.0</td>\n",
       "      <td>1</td>\n",
       "      <td>0.0</td>\n",
       "      <td>829.409973</td>\n",
       "      <td>6</td>\n",
       "      <td>1820.069946</td>\n",
       "      <td>303.345001</td>\n",
       "      <td>230.239990</td>\n",
       "      <td>123876.718750</td>\n",
       "    </tr>\n",
       "    <tr>\n",
       "      <th>4</th>\n",
       "      <td>2.0</td>\n",
       "      <td>0</td>\n",
       "      <td>0.0</td>\n",
       "      <td>2481.600098</td>\n",
       "      <td>4212</td>\n",
       "      <td>263171.250000</td>\n",
       "      <td>62.481300</td>\n",
       "      <td>18.980000</td>\n",
       "      <td>21216.832031</td>\n",
       "    </tr>\n",
       "  </tbody>\n",
       "</table>\n",
       "</div>"
      ],
      "text/plain": [
       "   Hour  Class  Min           Max  Transactions            Sum        Mean  \\\n",
       "0   0.0      0  0.0  10199.440430         10919  750813.937500   68.762154   \n",
       "1   0.0      1  0.0    512.250000            21    3143.119873  149.672379   \n",
       "2   1.0      0  0.0   7712.430176          7687  462282.281250   60.138191   \n",
       "3   1.0      1  0.0    829.409973             6    1820.069946  303.345001   \n",
       "4   2.0      0  0.0   2481.600098          4212  263171.250000   62.481300   \n",
       "\n",
       "       Median            Var  \n",
       "0   14.400000   46255.160156  \n",
       "1   42.529999   31753.310547  \n",
       "2   12.140000   33692.777344  \n",
       "3  230.239990  123876.718750  \n",
       "4   18.980000   21216.832031  "
      ]
     },
     "execution_count": 14,
     "metadata": {},
     "output_type": "execute_result"
    }
   ],
   "source": [
    "tmp = df_copy.groupby(['Hour', 'Class'])['Amount'].aggregate(['min', 'max', 'count', 'sum', 'mean', 'median', 'var']).reset_index()\n",
    "stats = pd.DataFrame(tmp)\n",
    "stats.columns = ['Hour', 'Class', 'Min', 'Max', 'Transactions', 'Sum', 'Mean', 'Median', 'Var']\n",
    "stats.head()"
   ]
  },
  {
   "cell_type": "markdown",
   "id": "ba2dd99e",
   "metadata": {
    "id": "ba2dd99e"
   },
   "source": [
    "Above, we plotted the volume of transactions per class grouped by hours of the day. Fraudulent Transactions have spikes in activity at specific hours and during usual sleeping hours."
   ]
  },
  {
   "cell_type": "code",
   "execution_count": 15,
   "id": "01f02a30",
   "metadata": {
    "colab": {
     "base_uri": "https://localhost:8080/",
     "height": 370
    },
    "executionInfo": {
     "elapsed": 1416,
     "status": "ok",
     "timestamp": 1650821346648,
     "user": {
      "displayName": "Project4th Group",
      "userId": "03925515661915260200"
     },
     "user_tz": -330
    },
    "id": "01f02a30",
    "outputId": "4bde1b4a-6adc-4885-dbbe-f95354e9b89f"
   },
   "outputs": [
    {
     "data": {
      "text/plain": [
       "[Text(0.5, 1.0, 'Fraud Transactions')]"
      ]
     },
     "execution_count": 15,
     "metadata": {},
     "output_type": "execute_result"
    },
    {
     "data": {
      "image/png": "[encoded data removed]",
      "text/plain": [
       "<Figure size 864x360 with 2 Axes>"
      ]
     },
     "metadata": {
      "needs_background": "light"
     },
     "output_type": "display_data"
    }
   ],
   "source": [
    "fig, ax = plt.subplots(1,2, figsize=(12,5))\n",
    "sns.lineplot(x='Hour', y='Transactions', data=stats.query('Class == 0'), ax=ax[0])\n",
    "sns.lineplot(x='Hour', y='Transactions', data=stats.query('Class == 1'), color='red', ax=ax[1])\n",
    "fig.suptitle('Total Number of Transactions per Hour of the Day')\n",
    "ax[0].set(title='Legit Transactions')\n",
    "ax[1].set(title='Fraud Transactions')"
   ]
  },
  {
   "cell_type": "markdown",
   "id": "26d3d4fa",
   "metadata": {
    "id": "26d3d4fa"
   },
   "source": [
    "**Data Preparation**\n",
    "\n",
    "To avoid overfitting, adjust model parameters progressively by incrementally increase the fraction of data by 20%"
   ]
  },
  {
   "cell_type": "code",
   "execution_count": 16,
   "id": "f4bf8600",
   "metadata": {
    "id": "f4bf8600"
   },
   "outputs": [],
   "source": [
    "df = df.sample(frac=1, random_state=SEED).reset_index(drop=True)"
   ]
  },
  {
   "cell_type": "code",
   "execution_count": 17,
   "id": "587a3734",
   "metadata": {
    "id": "587a3734"
   },
   "outputs": [],
   "source": [
    "y = df['Class']\n",
    "X = df.drop('Class', axis=1)\n",
    "\n",
    "feature_names = X.columns.tolist()"
   ]
  },
  {
   "cell_type": "code",
   "execution_count": 18,
   "id": "5cd225ba",
   "metadata": {
    "colab": {
     "base_uri": "https://localhost:8080/"
    },
    "executionInfo": {
     "elapsed": 349,
     "status": "ok",
     "timestamp": 1650821376298,
     "user": {
      "displayName": "Project4th Group",
      "userId": "03925515661915260200"
     },
     "user_tz": -330
    },
    "id": "5cd225ba",
    "outputId": "5b41fea7-7c51-46c4-e989-df34545595e8"
   },
   "outputs": [
    {
     "data": {
      "text/plain": [
       "0    0.998273\n",
       "1    0.001727\n",
       "Name: Class, dtype: float64"
      ]
     },
     "execution_count": 18,
     "metadata": {},
     "output_type": "execute_result"
    }
   ],
   "source": [
    "y.value_counts(normalize=True)"
   ]
  },
  {
   "cell_type": "markdown",
   "id": "83951684",
   "metadata": {
    "id": "83951684"
   },
   "source": [
    "From above result, data is unbalanced. Less than 1% positive fraudulent examples\n",
    "\n",
    "From loaded data, we split the data into training and testing sets using the 80-20 rule"
   ]
  },
  {
   "cell_type": "code",
   "execution_count": 19,
   "id": "dfc0db4d",
   "metadata": {
    "id": "dfc0db4d"
   },
   "outputs": [],
   "source": [
    "X_train, X_test, y_train, y_test = train_test_split(X, y, test_size=0.2, stratify=y, shuffle=True, random_state=SEED)"
   ]
  },
  {
   "cell_type": "markdown",
   "id": "b053986e",
   "metadata": {
    "id": "b053986e"
   },
   "source": [
    "**Feature Engineering**\n",
    "\n",
    "Calculate additional features containing statistical information about anonymized values"
   ]
  },
  {
   "cell_type": "code",
   "execution_count": 20,
   "id": "721e6de0",
   "metadata": {
    "id": "721e6de0"
   },
   "outputs": [],
   "source": [
    "def get_group_stats(df: pd.DataFrame) -> pd.DataFrame:\n",
    "    \"\"\"\n",
    "    Create features by calculating statistical moments.\n",
    "    \n",
    "    :param df: Pandas DataFrame containing all features\n",
    "    \"\"\"\n",
    "    cols = list(filter(lambda x: x.startswith('V'), df.columns))\n",
    "    \n",
    "    # avoid warnings about returning-a-view-versus-a-copy\n",
    "    ds = df.copy()\n",
    "    \n",
    "    ds['V_mean'] = df[cols].mean(axis=1)\n",
    "    ds['V_std'] = df[cols].std(axis=1)\n",
    "    ds['V_skew'] = df[cols].skew(axis=1)\n",
    "    \n",
    "    return ds\n",
    "\n",
    "X_train = get_group_stats(X_train)\n",
    "X_test = get_group_stats(X_test)"
   ]
  },
  {
   "cell_type": "markdown",
   "id": "17be2940",
   "metadata": {
    "id": "17be2940"
   },
   "source": [
    "Training our model using Cross Validation. \n",
    "\n",
    "Using GroupKFold strategy to generate splits. \n",
    "\n",
    "Grouping is based on hour of the day of the given transaction since specific hours have more fraudulent transactions as per our previous plot"
   ]
  },
  {
   "cell_type": "code",
   "execution_count": 21,
   "id": "12816f4a",
   "metadata": {
    "id": "12816f4a"
   },
   "outputs": [],
   "source": [
    "sfold = StratifiedKFold(n_splits=3)\n",
    "\n",
    "hour_train = X_train['Time'].apply(lambda x: np.ceil(float(x) / 3600) % 24)\n",
    "\n",
    "gfold = GroupKFold(n_splits=3)\n",
    "groups = list(gfold.split(X_train, y_train, groups=hour_train))"
   ]
  },
  {
   "cell_type": "code",
   "execution_count": 22,
   "id": "69461944",
   "metadata": {
    "id": "69461944"
   },
   "outputs": [],
   "source": [
    "def plot_correlation(corr: str) -> plt.Axes:\n",
    "    mask = np.triu(np.ones_like(corr, dtype=bool))\n",
    "    f, ax = plt.subplots(figsize=(11, 9))\n",
    "    cmap = sns.diverging_palette(230, 20, as_cmap=True)\n",
    "    sns.heatmap(corr, mask=mask, cmap=cmap, vmax=.3, center=0,\n",
    "                square=True, linewidths=.5, cbar_kws={\"shrink\": .5})"
   ]
  },
  {
   "cell_type": "code",
   "execution_count": 23,
   "id": "e7fe16aa",
   "metadata": {
    "id": "e7fe16aa"
   },
   "outputs": [],
   "source": [
    "def select_features_correlation(df: pd.DataFrame) -> list:\n",
    "    # Calculate correlations with target\n",
    "    full_corr = df.corr(method='spearman')\n",
    "    corr_with_target = full_corr['Class'].T.apply(abs).sort_values(ascending=False)\n",
    "    \n",
    "    min_threshold = corr_with_target.quantile(.25)\n",
    "    \n",
    "    # Select features with highest correlation to the target variable\n",
    "    features_correlation = corr_with_target[corr_with_target >= min_threshold]\n",
    "    features_correlation.drop('Class', inplace=True)\n",
    "    return features_correlation.index.tolist()"
   ]
  },
  {
   "cell_type": "markdown",
   "id": "d9bac574",
   "metadata": {
    "id": "d9bac574"
   },
   "source": [
    "Data is highly unbalanced. \n",
    "\n",
    "Obtaining Co-relation between some features is difficult. \n",
    "\n",
    "Undersampling the data to reduce the number of examples of the majority class gives a better co-relation. \n",
    "\n",
    "Use this co-relation amount to select higher co-related features with target class."
   ]
  },
  {
   "cell_type": "code",
   "execution_count": 24,
   "id": "368cc593",
   "metadata": {
    "colab": {
     "base_uri": "https://localhost:8080/",
     "height": 567
    },
    "executionInfo": {
     "elapsed": 4808,
     "status": "ok",
     "timestamp": 1650627978726,
     "user": {
      "displayName": "Project4th Group",
      "userId": "03925515661915260200"
     },
     "user_tz": -330
    },
    "id": "368cc593",
    "outputId": "b1fc2b91-08e9-43bb-a875-c7e16f64f737"
   },
   "outputs": [
    {
     "data": {
      "image/png": "[encoded data removed]",
      "text/plain": [
       "<Figure size 792x648 with 2 Axes>"
      ]
     },
     "metadata": {
      "needs_background": "light"
     },
     "output_type": "display_data"
    }
   ],
   "source": [
    "plot_correlation(X_train.corr(method='spearman'))"
   ]
  },
  {
   "cell_type": "code",
   "execution_count": 25,
   "id": "c9edc848",
   "metadata": {
    "colab": {
     "base_uri": "https://localhost:8080/",
     "height": 567
    },
    "executionInfo": {
     "elapsed": 1380,
     "status": "ok",
     "timestamp": 1650627984005,
     "user": {
      "displayName": "Project4th Group",
      "userId": "03925515661915260200"
     },
     "user_tz": -330
    },
    "id": "c9edc848",
    "outputId": "06d3f19a-d36d-4a18-da08-a202267b4c7e"
   },
   "outputs": [
    {
     "data": {
      "image/png": "[encoded data removed]",
      "text/plain": [
       "<Figure size 792x648 with 2 Axes>"
      ]
     },
     "metadata": {
      "needs_background": "light"
     },
     "output_type": "display_data"
    }
   ],
   "source": [
    "sampler = RandomUnderSampler(random_state=SEED)\n",
    "X_resampled, y_resampled = sampler.fit_resample(X_train, y_train)\n",
    "X_resampled['Class'] = y_resampled\n",
    "\n",
    "plot_correlation(X_resampled.corr(method='spearman'))"
   ]
  },
  {
   "cell_type": "markdown",
   "id": "e8c9b5ba",
   "metadata": {
    "id": "e8c9b5ba"
   },
   "source": [
    "Select features that have co-relation with target class, higher than the lower quartile value. For that, we drop features with low co-relation to help reduce the complexity"
   ]
  },
  {
   "cell_type": "code",
   "execution_count": 26,
   "id": "2387b089",
   "metadata": {
    "colab": {
     "base_uri": "https://localhost:8080/"
    },
    "executionInfo": {
     "elapsed": 376,
     "status": "ok",
     "timestamp": 1650629311036,
     "user": {
      "displayName": "Project4th Group",
      "userId": "03925515661915260200"
     },
     "user_tz": -330
    },
    "id": "2387b089",
    "outputId": "30c91fdd-dcd8-4e61-b96e-bb2fc37b73f0"
   },
   "outputs": [],
   "source": [
    "cols = select_features_correlation(X_resampled)\n",
    "X_train = X_train[cols]\n",
    "X_test = X_test[cols]"
   ]
  },
  {
   "cell_type": "markdown",
   "id": "45d66098",
   "metadata": {
    "id": "45d66098"
   },
   "source": [
    "**Modelling**\n",
    "\n",
    "Use Grid Search to tune hyperparameters of the model. Apply cross validation using GroupKFold as mentioned previously.\n",
    "\n",
    "Performance Evaluation Method\n",
    "- In this, false positives and false negatives are both relevant, so we use F1-score\n",
    "- Accuracy alone can be misleading in this scenario\n",
    "- Use maximum depth value to reduce chances of overfitting\n",
    "- Test using different percentage of features used by each tree\n",
    "- Try out 2 different learning rates\n",
    "- Other params are kept to fine-tune alpha regularization value and sub-sample of the training set\n",
    "\n",
    "**Baseline**\n",
    "\n",
    "Train a simple baseline model for result reference"
   ]
  },
  {
   "cell_type": "code",
   "execution_count": 27,
   "id": "5a42484e",
   "metadata": {
    "id": "5a42484e"
   },
   "outputs": [],
   "source": [
    "pipeline = Pipeline([\n",
    "    ('standardscaler', StandardScaler()),\n",
    "    ('clf', LGBMClassifier(n_jobs=-1, random_state=SEED)),\n",
    "])"
   ]
  },
  {
   "cell_type": "code",
   "execution_count": 28,
   "id": "02a39773",
   "metadata": {
    "colab": {
     "base_uri": "https://localhost:8080/"
    },
    "executionInfo": {
     "elapsed": 9444,
     "status": "ok",
     "timestamp": 1650628006989,
     "user": {
      "displayName": "Project4th Group",
      "userId": "03925515661915260200"
     },
     "user_tz": -330
    },
    "id": "02a39773",
    "outputId": "2c51c870-3130-4f6f-9d75-3f1a12a69b78"
   },
   "outputs": [
    {
     "name": "stdout",
     "output_type": "stream",
     "text": [
      "Baseline MCC score: 0.1447725498276475\n",
      "Baseline AP score: 0.025436943738756435\n",
      "Baseline ROC AUC score: 0.7318501324726387\n",
      "Baseline F1 score: 0.09029852751627887\n"
     ]
    }
   ],
   "source": [
    "mcc_results = []\n",
    "ap_results = []\n",
    "roc_auc_results = []\n",
    "f1_results = []\n",
    "\n",
    "for train_index, test_index in groups:\n",
    "    pipeline.fit(X_train.values[train_index], y_train.values[train_index])\n",
    "    test_data = pipeline['standardscaler'].transform(X_train.values[test_index])\n",
    "    \n",
    "    y_pred = pipeline.predict(test_data)\n",
    "    \n",
    "    mcc_results.append(matthews_corrcoef(y_train.values[test_index], y_pred))\n",
    "    ap_results.append(average_precision_score(y_train.values[test_index], y_pred))\n",
    "    roc_auc_results.append(roc_auc_score(y_train.values[test_index], y_pred))\n",
    "    f1_results.append(f1_score(y_train.values[test_index], y_pred))\n",
    "\n",
    "\n",
    "print(f'Baseline MCC score: {np.mean(mcc_results)}')\n",
    "print(f'Baseline AP score: {np.mean(ap_results)}')\n",
    "print(f'Baseline ROC AUC score: {np.mean(roc_auc_results)}')\n",
    "print(f'Baseline F1 score: {np.mean(f1_results)}')"
   ]
  },
  {
   "cell_type": "markdown",
   "id": "f1cd1568",
   "metadata": {
    "id": "f1cd1568"
   },
   "source": [
    "**Fine Tuning**"
   ]
  },
  {
   "cell_type": "code",
   "execution_count": 29,
   "id": "60c95004",
   "metadata": {
    "id": "60c95004"
   },
   "outputs": [],
   "source": [
    "gbm_grid = {\n",
    "    'clf__n_estimators': [500, 1000],\n",
    "    'clf__learning_rate': [0.1, 0.01],\n",
    "    'clf__max_depth': [4, 6, 8],\n",
    "    'clf__colsample_bytree': np.linspace(0.6, 1.0, num=5),\n",
    "    'clf__reg_alpha': np.linspace(0., 1.0, num=5),\n",
    "    'clf__subsample': np.linspace(0.7, 1.0, num=4),\n",
    "}"
   ]
  },
  {
   "cell_type": "code",
   "execution_count": 30,
   "id": "87264da9",
   "metadata": {
    "id": "87264da9"
   },
   "outputs": [],
   "source": [
    "def grid_search_tuning(pipeline, X, y, grid, fold):\n",
    "    grid = HalvingGridSearchCV(pipeline, param_grid=grid, cv=fold, scoring='f1',\n",
    "                               random_state=SEED, n_jobs=-1, verbose=1)\n",
    "    grid.fit(X, y)\n",
    "    \n",
    "    print(f\"\\nMean test score: {np.mean(grid.cv_results_['mean_test_score'])}\")\n",
    "    print(f'Best parameters: {grid.best_params_}')\n",
    "    \n",
    "    return grid.best_estimator_"
   ]
  },
  {
   "cell_type": "code",
   "execution_count": 31,
   "id": "0347d545",
   "metadata": {
    "colab": {
     "base_uri": "https://localhost:8080/"
    },
    "executionInfo": {
     "elapsed": 13308,
     "status": "ok",
     "timestamp": 1650628034521,
     "user": {
      "displayName": "Project4th Group",
      "userId": "03925515661915260200"
     },
     "user_tz": -330
    },
    "id": "0347d545",
    "outputId": "8c54ba01-2eb6-447a-d684-16253250ca9a"
   },
   "outputs": [
    {
     "name": "stdout",
     "output_type": "stream",
     "text": [
      "Using previously tuned model parameters.\n"
     ]
    }
   ],
   "source": [
    "if USE_TUNED_PARAMS:\n",
    "    print('Using previously tuned model parameters.')\n",
    "    \n",
    "    best_params = {\n",
    "        'n_estimators': 500,\n",
    "        'learning_rate': 0.01,\n",
    "        'max_depth': 8,\n",
    "        'colsample_bytree': 0.6,\n",
    "    }\n",
    "    \n",
    "    pipeline = Pipeline([\n",
    "        ('standardscaler', StandardScaler()),\n",
    "        ('clf', LGBMClassifier(**best_params, n_jobs=-1, random_state=SEED)),\n",
    "    ])\n",
    "    \n",
    "    grid = pipeline.fit(X_train, y_train)\n",
    "else:\n",
    "    pipeline = Pipeline([\n",
    "        ('standardscaler', StandardScaler()),\n",
    "        ('clf', LGBMClassifier(n_jobs=-1, random_state=SEED)),\n",
    "    ])\n",
    "\n",
    "    # It can take a while to run\n",
    "    grid = grid_search_tuning(pipeline, X_train, y_train, gbm_grid, groups)"
   ]
  },
  {
   "cell_type": "markdown",
   "id": "52e8ec0a",
   "metadata": {
    "id": "52e8ec0a"
   },
   "source": [
    "Model's performance evaluation on the test set and feature importance."
   ]
  },
  {
   "cell_type": "code",
   "execution_count": 32,
   "id": "921b51c3",
   "metadata": {
    "id": "921b51c3"
   },
   "outputs": [],
   "source": [
    "def score_model(clf, X_test, y_test, feature_names):\n",
    "    y_pred = clf.predict(X_test)\n",
    "    y_probas = clf.predict_proba(X_test)\n",
    "\n",
    "    print(classification_report_imbalanced(y_test, y_pred, target_names=['Legit', 'Fraud']))\n",
    "    print(f'MCC: {matthews_corrcoef(y_test, y_pred)}\\nAP: ' +\n",
    "          f'{average_precision_score(y_test, y_pred)}\\nROC AUC: {roc_auc_score(y_test, y_pred)}')\n",
    "\n",
    "    fig, ax = plt.subplots(1,2, figsize=(12,5))\n",
    "    skplt.metrics.plot_precision_recall(y_test, y_probas, ax=ax[0])\n",
    "    skplt.metrics.plot_confusion_matrix(y_test, y_pred, normalize=True, ax=ax[1])\n",
    "    \n",
    "    skplt.estimators.plot_feature_importances(clf, feature_names=feature_names, figsize=(16,5))\n",
    "\n",
    "    return y_probas"
   ]
  },
  {
   "cell_type": "code",
   "execution_count": 33,
   "id": "a8059968",
   "metadata": {
    "colab": {
     "base_uri": "https://localhost:8080/",
     "height": 843
    },
    "executionInfo": {
     "elapsed": 4845,
     "status": "ok",
     "timestamp": 1650628047914,
     "user": {
      "displayName": "Project4th Group",
      "userId": "03925515661915260200"
     },
     "user_tz": -330
    },
    "id": "a8059968",
    "outputId": "c05e78c3-6afd-412e-ff35-c00a01be4f3f"
   },
   "outputs": [
    {
     "name": "stdout",
     "output_type": "stream",
     "text": [
      "                   pre       rec       spe        f1       geo       iba       sup\n",
      "\n",
      "      Legit       1.00      1.00      0.81      1.00      0.90      0.82     56864\n",
      "      Fraud       0.94      0.81      1.00      0.87      0.90      0.79        98\n",
      "\n",
      "avg / total       1.00      1.00      0.81      1.00      0.90      0.82     56962\n",
      "\n",
      "MCC: 0.8705096324464109\n",
      "AP: 0.7584725255774664\n",
      "ROC AUC: 0.9030172599428067\n"
     ]
    },
    {
     "data": {
      "image/png": "[encoded data removed]",
      "text/plain": [
       "<Figure size 864x360 with 3 Axes>"
      ]
     },
     "metadata": {
      "needs_background": "light"
     },
     "output_type": "display_data"
    },
    {
     "data": {
      "image/png": "[encoded data removed]",
      "text/plain": [
       "<Figure size 1152x360 with 1 Axes>"
      ]
     },
     "metadata": {
      "needs_background": "light"
     },
     "output_type": "display_data"
    }
   ],
   "source": [
    "scaled_X_test = grid['standardscaler'].transform(X_test)\n",
    "\n",
    "y_probas = score_model(grid['clf'], scaled_X_test, y_test, feature_names)\n"
   ]
  },
  {
   "cell_type": "code",
   "execution_count": 34,
   "id": "93b72dbf",
   "metadata": {
    "colab": {
     "base_uri": "https://localhost:8080/",
     "height": 367
    },
    "executionInfo": {
     "elapsed": 730,
     "status": "ok",
     "timestamp": 1650628052724,
     "user": {
      "displayName": "Project4th Group",
      "userId": "03925515661915260200"
     },
     "user_tz": -330
    },
    "id": "93b72dbf",
    "outputId": "dd3362a4-4569-47b1-ddbe-8d16731a0a64"
   },
   "outputs": [
    {
     "data": {
      "text/plain": [
       "<AxesSubplot:title={'center':'Calibration plots (Reliability Curves)'}, xlabel='Mean predicted value', ylabel='Fraction of positives'>"
      ]
     },
     "execution_count": 34,
     "metadata": {},
     "output_type": "execute_result"
    },
    {
     "data": {
      "image/png": "[encoded data removed]",
      "text/plain": [
       "<Figure size 432x360 with 1 Axes>"
      ]
     },
     "metadata": {
      "needs_background": "light"
     },
     "output_type": "display_data"
    }
   ],
   "source": [
    "skplt.metrics.plot_calibration_curve(y_test, [y_probas], ['LightGBM'], figsize=(6,5))"
   ]
  },
  {
   "cell_type": "code",
   "execution_count": 35,
   "id": "4dffcbf6",
   "metadata": {
    "colab": {
     "base_uri": "https://localhost:8080/",
     "height": 312
    },
    "executionInfo": {
     "elapsed": 241739,
     "status": "ok",
     "timestamp": 1650628297153,
     "user": {
      "displayName": "Project4th Group",
      "userId": "03925515661915260200"
     },
     "user_tz": -330
    },
    "id": "4dffcbf6",
    "outputId": "150048cc-0603-45de-bef6-3edfab7ebc63"
   },
   "outputs": [
    {
     "data": {
      "text/plain": [
       "<AxesSubplot:title={'center':'Learning Curve'}, xlabel='Training examples', ylabel='Score'>"
      ]
     },
     "execution_count": 35,
     "metadata": {},
     "output_type": "execute_result"
    },
    {
     "data": {
      "image/png": "[encoded data removed]",
      "text/plain": [
       "<Figure size 432x288 with 1 Axes>"
      ]
     },
     "metadata": {
      "needs_background": "light"
     },
     "output_type": "display_data"
    }
   ],
   "source": [
    "skplt.estimators.plot_learning_curve(grid['clf'], X_train, y_train, scoring='f1', n_jobs=-1, random_state=SEED)"
   ]
  },
  {
   "cell_type": "code",
   "execution_count": null,
   "id": "17354a91",
   "metadata": {
    "id": "17354a91",
    "outputId": "624c0702-d2bf-43b6-acab-2602ff407277"
   },
   "outputs": [
    {
     "name": "stdout",
     "output_type": "stream",
     "text": [
      "The transaction is Fraudulent!!\n"
     ]
    }
   ],
   "source": [
    "def openFile():\n",
    "    filep = filedialog.askopenfilename()\n",
    "    filedata = open(filep,'r', encoding = 'UTF-8')\n",
    "    x = filedata.read()\n",
    "    li = list(x.split(\",\"))\n",
    "    li[-1].rstrip('\\n')\n",
    "    stringArray = np.array(li)\n",
    "    floatArray = stringArray.astype(float)\n",
    "    tu = tuple(floatArray)\n",
    "    input_data = tu\n",
    "    input_data_as_numpy_array = np.asarray(input_data)\n",
    "    input_data_reshaped = input_data_as_numpy_array.reshape(1,-1)\n",
    "    prediction = pipeline.predict(input_data_reshaped)\n",
    "    if(prediction==0):\n",
    "        print(\"The transaction is Genuine!!\")\n",
    "    else:\n",
    "        print(\"The transaction is Fraudulent!!\")\n",
    "\n",
    "\n",
    "window = tkinter.Tk()\n",
    "button = Button(text=\"Open\",command=openFile)\n",
    "button.pack()\n",
    "window.mainloop()\n",
    "\n",
    "    "
   ]
  },
  {
   "cell_type": "markdown",
   "id": "4cc16fc8",
   "metadata": {
    "id": "4cc16fc8"
   },
   "source": [
    "**Conclusion**\n",
    "\n",
    "- Resampling didn't produce good enough results\n",
    "- Under sampling, over sampling and a combination of both didn't produce good enough results"
   ]
  },
  {
   "cell_type": "markdown",
   "id": "f7f52c64",
   "metadata": {
    "id": "f7f52c64"
   },
   "source": [
    "**Possible Reasons**\n",
    "- Most variables were from PCA transformations and this affected impact of sampling\n",
    "- Low number of fraudulent transactions caused undersampling to produce a tiny data set too small to train a decent model"
   ]
  },
  {
   "cell_type": "markdown",
   "id": "58ac9025",
   "metadata": {
    "id": "58ac9025"
   },
   "source": [
    "**Result of Model Testing**\n",
    "\n",
    "In fraud detection, as mentioned previously, two cases are essential for a good model : achieve true positives(identify real fraudulent transactions) and avoid false positives(avoid labelling real transactions as fraudulent). The above model provides good results at achieving true positives with an F1 score of 0.87 and doesn't label any genuine transactions as fraudulent"
   ]
  },
  {
   "cell_type": "code",
   "execution_count": null,
   "id": "d0593e73",
   "metadata": {
    "id": "d0593e73"
   },
   "outputs": [],
   "source": []
  }
 ],
 "metadata": {
  "colab": {
   "name": "Credit Card Fraud Detection - LightGBM (2).ipynb",
   "provenance": []
  },
  "kernelspec": {
   "display_name": "Python 3 (ipykernel)",
   "language": "python",
   "name": "python3"
  },
  "language_info": {
   "codemirror_mode": {
    "name": "ipython",
    "version": 3
   },
   "file_extension": ".py",
   "mimetype": "text/x-python",
   "name": "python",
   "nbconvert_exporter": "python",
   "pygments_lexer": "ipython3",
   "version": "3.9.7"
  }
 },
 "nbformat": 4,
 "nbformat_minor": 5
}
